{
 "cells": [
  {
   "cell_type": "code",
   "execution_count": 1,
   "metadata": {},
   "outputs": [
    {
     "name": "stderr",
     "output_type": "stream",
     "text": [
      "/Users/evie.jones/Documents/Masters/Big Data Analytics/bbk-bda-project1/.bbk/lib/python3.9/site-packages/urllib3/__init__.py:35: NotOpenSSLWarning: urllib3 v2 only supports OpenSSL 1.1.1+, currently the 'ssl' module is compiled with 'LibreSSL 2.8.3'. See: https://github.com/urllib3/urllib3/issues/3020\n",
      "  warnings.warn(\n"
     ]
    }
   ],
   "source": [
    "from fun import *"
   ]
  },
  {
   "cell_type": "code",
   "execution_count": null,
   "metadata": {},
   "outputs": [],
   "source": [
    "file_dict = {\"filename\": \"datasets/sleep_health_and_lifestyle_data.csv\"}\n",
    "filename = file_dict[\"filename\"]\n",
    "\n",
    "# Test out mini_load_csv_dict\n",
    "sleep_data = mini_load_csv_dict(file_dict)\n",
    "print(sleep_data[0]) "
   ]
  },
  {
   "cell_type": "code",
   "execution_count": null,
   "metadata": {},
   "outputs": [],
   "source": [
    "test_mini_search = mini_search({\"Data\": sleep_data, \"Column\": \"Sleep Disorder\", \"Value\": \"Insooonia\"})\n",
    "print(test_mini_search)"
   ]
  },
  {
   "cell_type": "code",
   "execution_count": 33,
   "metadata": {},
   "outputs": [],
   "source": [
    "input_dict = {\"Data\": sleep_data, \"Column\": \"BMI Category\", \"Value\": \"Obese\"}\n",
    "input_dict_num = ({\"Data\": sleep_data, \"Column\": \"Daily Steps\", \"Value\": 10000})"
   ]
  },
  {
   "cell_type": "code",
   "execution_count": null,
   "metadata": {},
   "outputs": [],
   "source": []
  },
  {
   "cell_type": "code",
   "execution_count": null,
   "metadata": {},
   "outputs": [],
   "source": [
    "print(mini_search(input_dict))"
   ]
  },
  {
   "cell_type": "code",
   "execution_count": null,
   "metadata": {},
   "outputs": [],
   "source": [
    "print(mini_max(sleep_data, \"Daily Steps\"))"
   ]
  },
  {
   "cell_type": "code",
   "execution_count": null,
   "metadata": {},
   "outputs": [],
   "source": [
    "print(mini_stats({\"Data\": sleep_data, \"Column\": \"Age\", \"Function\": \"max\"}))"
   ]
  },
  {
   "cell_type": "code",
   "execution_count": null,
   "metadata": {},
   "outputs": [],
   "source": [
    "print(mini_extract_metrics({\"Data\": sleep_data, \"Col1\":\"Person ID\",\n",
    "\"Col2\":\"Quality of Sleep\",\n",
    "\"Col3\":\"Physical Activity Level\"}))"
   ]
  },
  {
   "cell_type": "code",
   "execution_count": 38,
   "metadata": {},
   "outputs": [],
   "source": [
    "test_mini_count = mini_count({\"Data\": sleep_data, \"Column\": \"Daily Steps\", \"Value\": 10000})"
   ]
  },
  {
   "cell_type": "code",
   "execution_count": null,
   "metadata": {},
   "outputs": [],
   "source": [
    "print(mini_search(input_dict))"
   ]
  },
  {
   "cell_type": "code",
   "execution_count": null,
   "metadata": {},
   "outputs": [],
   "source": [
    "print(test_mini_count)"
   ]
  },
  {
   "cell_type": "code",
   "execution_count": 41,
   "metadata": {},
   "outputs": [],
   "source": [
    "sleep_data = mini_load_csv_dict(file_dict)"
   ]
  },
  {
   "cell_type": "code",
   "execution_count": null,
   "metadata": {},
   "outputs": [],
   "source": [
    "print(mini_bubble_sort(sleep_data, \"Daily Steps\"))"
   ]
  },
  {
   "cell_type": "code",
   "execution_count": null,
   "metadata": {},
   "outputs": [],
   "source": [
    "sorted_data = mini_bubble_sort(sleep_data, \"Daily Steps\")\n",
    "sorted_data = sorted_data.get(\"Sorted data\")\n",
    "print(mini_value_exists(sorted_data, 3500))"
   ]
  },
  {
   "cell_type": "markdown",
   "metadata": {},
   "source": [
    "Part C"
   ]
  },
  {
   "cell_type": "code",
   "execution_count": null,
   "metadata": {},
   "outputs": [],
   "source": [
    "#Check if the Daily_Steps column exists and how many missing values it contains\n",
    "file_dict = {\"filename\": \"datasets/health_activity_data.csv\"}\n",
    "filename = file_dict[\"filename\"]\n",
    "health_data = mini_load_csv_dict(file_dict)\n",
    "print(mini_len({\"Data\": health_data, \"Column\": \"Daily_Steps\"}))"
   ]
  },
  {
   "cell_type": "code",
   "execution_count": null,
   "metadata": {},
   "outputs": [],
   "source": [
    "# Count how many individuals report Daily_Steps of 6457 hours.\n",
    "print(mini_count_match({\"Data\": health_data, \"Daily_Steps\": 6457}))"
   ]
  },
  {
   "cell_type": "code",
   "execution_count": null,
   "metadata": {},
   "outputs": [],
   "source": [
    "# Calculate the average BMI across all individuals.\n",
    "print(mini_average({\"Data\": health_data, \"Column\": \"BMI\"}))"
   ]
  },
  {
   "cell_type": "code",
   "execution_count": null,
   "metadata": {},
   "outputs": [],
   "source": [
    "# Count how many female users sleep 7.4 hours.\n",
    "print(mini_count_match({\"Data\": health_data, \"Gender\": \"Female\", \"Hours_of_Sleep\": 7.4}))"
   ]
  },
  {
   "cell_type": "markdown",
   "metadata": {},
   "source": [
    "Part D\n"
   ]
  },
  {
   "cell_type": "code",
   "execution_count": 3,
   "metadata": {},
   "outputs": [],
   "source": [
    "cities = [\n",
    " {\"city\": \"New York\", \"country\": \"USA\", \"lat\": 40.7128, \"lon\": -74.0060},\n",
    " {\"city\": \"London\", \"country\": \"UK\", \"lat\": 51.5074, \"lon\": -0.1278},\n",
    " {\"city\": \"Paris\", \"country\": \"France\", \"lat\": 48.8566, \"lon\": 2.3522},\n",
    " {\"city\": \"Tokyo\", \"country\": \"Japan\", \"lat\": 35.6895, \"lon\": 139.6917},\n",
    " {\"city\": \"Sydney\", \"country\": \"Australia\", \"lat\": -33.8688, \"lon\": 151.2093},\n",
    " {\"city\": \"Rio de Janeiro\", \"country\": \"Brazil\", \"lat\": -22.9068, \"lon\": -43.1729},\n",
    " {\"city\": \"Cape Town\", \"country\": \"South Africa\", \"lat\": -33.9249, \"lon\": 18.4241},\n",
    " {\"city\": \"Moscow\", \"country\": \"Russia\", \"lat\": 55.7558, \"lon\": 37.6173},\n",
    " {\"city\": \"Beijing\", \"country\": \"China\", \"lat\": 39.9042, \"lon\": 116.4074},\n",
    " {\"city\": \"Mumbai\", \"country\": \"India\", \"lat\": 19.0760, \"lon\": 72.8777},\n",
    " {\"city\": \"Cairo\", \"country\": \"Egypt\", \"lat\": 30.0444, \"lon\": 31.2357},\n",
    " {\"city\": \"Berlin\", \"country\": \"Germany\", \"lat\": 52.5200, \"lon\": 13.4050},\n",
    " {\"city\": \"Rome\", \"country\": \"Italy\", \"lat\": 41.9028, \"lon\": 12.4964},\n",
    " {\"city\": \"Toronto\", \"country\": \"Canada\", \"lat\": 43.6510, \"lon\": -79.3470},\n",
    " {\"city\": \"Dubai\", \"country\": \"UAE\", \"lat\": 25.2048, \"lon\": 55.2708},\n",
    " {\"city\": \"Singapore\", \"country\": \"Singapore\", \"lat\": 1.3521, \"lon\": 103.8198},\n",
    " {\"city\": \"Mexico City\", \"country\": \"Mexico\", \"lat\": 19.4326, \"lon\": -99.1332},\n",
    " {\"city\": \"Buenos Aires\", \"country\": \"Argentina\", \"lat\": -34.6037, \"lon\": -58.3816},\n",
    " {\"city\": \"Istanbul\", \"country\": \"Turkey\", \"lat\": 41.0082, \"lon\": 28.9784},\n",
    " {\"city\": \"Bangkok\", \"country\": \"Thailand\", \"lat\": 13.7563, \"lon\": 100.5018},\n",
    " {\"city\": \"Nairobi\", \"country\": \"Kenya\", \"lat\": -1.2921, \"lon\": 36.8219},\n",
    " {\"city\": \"Seoul\", \"country\": \"South Korea\", \"lat\": 37.5665, \"lon\": 126.9780},\n",
    " {\"city\": \"San Francisco\", \"country\": \"USA\", \"lat\": 37.7749, \"lon\": -122.4194},\n",
    " {\"city\": \"Jakarta\", \"country\": \"Indonesia\", \"lat\": -6.2088, \"lon\": 106.8456},\n",
    " {\"city\": \"Madrid\", \"country\": \"Spain\", \"lat\": 40.4168, \"lon\": -3.7038},\n",
    " {\"city\": \"Lisbon\", \"country\": \"Portugal\", \"lat\": 38.7169, \"lon\": -9.1399},\n",
    " {\"city\": \"Athens\", \"country\": \"Greece\", \"lat\": 37.9838, \"lon\": 23.7275},\n",
    " {\"city\": \"Hanoi\", \"country\": \"Vietnam\", \"lat\": 21.0285, \"lon\": 105.8544},\n",
    " {\"city\": \"Oslo\", \"country\": \"Norway\", \"lat\": 59.9139, \"lon\": 10.7522},\n",
    " {\"city\": \"Lagos\", \"country\": \"Nigeria\", \"lat\": 6.5244, \"lon\": 3.3792}\n",
    "]"
   ]
  },
  {
   "cell_type": "code",
   "execution_count": null,
   "metadata": {},
   "outputs": [],
   "source": [
    "for result in mini_get_weather_data_yield(cities):\n",
    "    print(result)"
   ]
  },
  {
   "cell_type": "code",
   "execution_count": 50,
   "metadata": {},
   "outputs": [],
   "source": [
    "# url = 'https://api.open-meteo.com/v1/forecast'\n",
    "# params = {\n",
    "#     \"latitude\": 40.7128,\n",
    "#     \"longitude\": -74.0060,\n",
    "#     \"hourly\": \"temperature_2m\",\n",
    "#     \"daily\": [\"temperature_2m_max\", \"temperature_2m_min\"]\n",
    "# }\n",
    "# response = requests.get(url, params=params, timeout=1)\n",
    "# print(response.text)"
   ]
  },
  {
   "cell_type": "code",
   "execution_count": 51,
   "metadata": {},
   "outputs": [],
   "source": [
    "# data_return = {\n",
    "#     \"city\": \"new york\",\n",
    "#     \"lat\": api_return.get(\"latitude\"),\n",
    "#     \"lon\": api_return.get(\"longitude\"),\n",
    "# }\n",
    "# temps = {}\n",
    "# for i in range(mini_simple_len(api_return[\"hourly\"][\"time\"])):\n",
    "#     time = api_return[\"hourly\"][\"time\"][i]\n",
    "#     temp = api_return[\"hourly\"][\"temperature_2m\"][i]\n",
    "#     temps[time] = temp\n",
    "    \n",
    "\n",
    "# data_return[\"temperatures\"] = temps\n",
    "\n",
    "# maxes = {}\n",
    "# for i in range(mini_simple_len(api_return[\"daily\"][\"temperature_2m_max\"])):\n",
    "#     time = api_return[\"daily\"][\"time\"][i]\n",
    "#     temp = api_return[\"daily\"][\"temperature_2m_max\"][i]\n",
    "#     maxes[time] = temp\n",
    "\n",
    "# data_return[\"daily_max\"] = maxes\n",
    "\n",
    "# mins = {}\n",
    "# for i in range(mini_simple_len(api_return[\"daily\"][\"temperature_2m_max\"])):\n",
    "#     time = api_return[\"daily\"][\"time\"][i]\n",
    "#     temp = api_return[\"daily\"][\"temperature_2m_min\"][i]\n",
    "#     mins[time] = temp\n",
    "\n",
    "# data_return[\"daily_min\"] = mins\n",
    "\n",
    "# print(data_return)"
   ]
  },
  {
   "cell_type": "code",
   "execution_count": 52,
   "metadata": {},
   "outputs": [],
   "source": [
    "# data_return = {\n",
    "#     \"city\": \"new york\",\n",
    "#     \"lat\": api_return.get(\"latitude\"),\n",
    "#     \"lon\": api_return.get(\"longitude\"),\n",
    "#     \"temperatures\": {\n",
    "#         time: temp for time, temp in zip(\n",
    "#             api_return[\"hourly\"][\"time\"],\n",
    "#             api_return[\"hourly\"][\"temperature_2m\"]\n",
    "#         )\n",
    "#     },\n",
    "#     \"daily_max\": {\n",
    "#         time: temp for time, temp in zip(\n",
    "#             api_return[\"daily\"][\"time\"],\n",
    "#             api_return[\"daily\"][\"temperature_2m_max\"]\n",
    "#         )\n",
    "#     },\n",
    "#     \"daily_min\": {\n",
    "#         time: temp for time, temp in zip(\n",
    "#             api_return[\"daily\"][\"time\"],\n",
    "#             api_return[\"daily\"][\"temperature_2m_min\"]\n",
    "#         )\n",
    "#     }\n",
    "# }\n",
    "\n",
    "# print(data_return)"
   ]
  },
  {
   "cell_type": "code",
   "execution_count": 53,
   "metadata": {},
   "outputs": [],
   "source": [
    "# weather_data = mini_get_weather_data(cities)"
   ]
  },
  {
   "cell_type": "code",
   "execution_count": 54,
   "metadata": {},
   "outputs": [],
   "source": [
    "test_cities = mini_temp_between(weather_data, 20, 30)"
   ]
  },
  {
   "cell_type": "code",
   "execution_count": null,
   "metadata": {},
   "outputs": [],
   "source": [
    "test_cities"
   ]
  },
  {
   "cell_type": "code",
   "execution_count": 4,
   "metadata": {},
   "outputs": [
    {
     "name": "stdout",
     "output_type": "stream",
     "text": [
      "{'City': 'Cairo', 'Max temp': 39.3}\n"
     ]
    }
   ],
   "source": [
    "weather_generator = mini_get_weather_data(cities)\n",
    "result = mini_hottest_city(weather_generator)\n",
    "print(result)"
   ]
  },
  {
   "cell_type": "code",
   "execution_count": 57,
   "metadata": {},
   "outputs": [],
   "source": [
    "# mini_get_weather_data(cities)"
   ]
  },
  {
   "cell_type": "code",
   "execution_count": 58,
   "metadata": {},
   "outputs": [],
   "source": [
    "# print(mini_hottest_city(mini_get_weather_data(cities)))"
   ]
  },
  {
   "cell_type": "code",
   "execution_count": 6,
   "metadata": {},
   "outputs": [
    {
     "data": {
      "text/plain": [
       "list"
      ]
     },
     "execution_count": 6,
     "metadata": {},
     "output_type": "execute_result"
    }
   ],
   "source": [
    "type(weather_generator)"
   ]
  },
  {
   "cell_type": "code",
   "execution_count": 5,
   "metadata": {},
   "outputs": [
    {
     "name": "stdout",
     "output_type": "stream",
     "text": [
      "{'City': 'Cairo', 'Max temp': 39.3}\n",
      "{'City': 'Sydney', 'Min temp': 1.0}\n"
     ]
    }
   ],
   "source": [
    "hottest = mini_hottest_city(weather_generator)\n",
    "print(hottest)\n",
    "coldest = mini_coldest_city(weather_generator)\n",
    "print(coldest)"
   ]
  },
  {
   "cell_type": "code",
   "execution_count": null,
   "metadata": {},
   "outputs": [],
   "source": []
  }
 ],
 "metadata": {
  "kernelspec": {
   "display_name": ".bbk",
   "language": "python",
   "name": "python3"
  },
  "language_info": {
   "codemirror_mode": {
    "name": "ipython",
    "version": 3
   },
   "file_extension": ".py",
   "mimetype": "text/x-python",
   "name": "python",
   "nbconvert_exporter": "python",
   "pygments_lexer": "ipython3",
   "version": "3.9.6"
  }
 },
 "nbformat": 4,
 "nbformat_minor": 2
}
