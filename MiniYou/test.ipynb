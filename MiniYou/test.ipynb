{
 "cells": [
  {
   "cell_type": "code",
   "execution_count": 1,
   "metadata": {},
   "outputs": [],
   "source": [
    "from fun import *"
   ]
  },
  {
   "cell_type": "code",
   "execution_count": 2,
   "metadata": {},
   "outputs": [
    {
     "name": "stdout",
     "output_type": "stream",
     "text": [
      "{'Person ID': 1, 'Gender': 'Male', 'Age': 27, 'Occupation': 'Software Engineer', 'Sleep Duration': 6.1, 'Quality of Sleep': 6, 'Physical Activity Level': 42, 'Stress Level': 6, 'BMI Category': 'Overweight', 'Blood Pressure': '126/83', 'Heart Rate': 77, 'Daily Steps': 4200, 'Sleep Disorder': 'None'}\n"
     ]
    }
   ],
   "source": [
    "file_dict = {\"filename\": \"datasets/sleep_health_and_lifestyle_data.csv\"}\n",
    "filename = file_dict[\"filename\"]\n",
    "\n",
    "# Test out mini_load_csv_dict\n",
    "sleep_data = mini_load_csv_dict(file_dict)\n",
    "print(sleep_data[0]) "
   ]
  },
  {
   "cell_type": "code",
   "execution_count": 3,
   "metadata": {},
   "outputs": [
    {
     "name": "stdout",
     "output_type": "stream",
     "text": [
      "{'Exists': False, 'Column': 'Sleep Disorder', 'Value': 'Insooonia'}\n"
     ]
    }
   ],
   "source": [
    "test_mini_search = mini_search({\"Data\": sleep_data, \"Column\": \"Sleep Disorder\", \"Value\": \"Insooonia\"})\n",
    "print(test_mini_search)"
   ]
  },
  {
   "cell_type": "code",
   "execution_count": 4,
   "metadata": {},
   "outputs": [],
   "source": [
    "input_dict = {\"Data\": sleep_data, \"Column\": \"BMI Category\", \"Value\": \"Obese\"}\n",
    "input_dict_num = ({\"Data\": sleep_data, \"Column\": \"Daily Steps\", \"Value\": 10000})"
   ]
  },
  {
   "cell_type": "code",
   "execution_count": null,
   "metadata": {},
   "outputs": [],
   "source": []
  },
  {
   "cell_type": "code",
   "execution_count": 5,
   "metadata": {},
   "outputs": [
    {
     "name": "stdout",
     "output_type": "stream",
     "text": [
      "{'Exists': True, 'Column': 'BMI Category', 'Value': 'Obese'}\n"
     ]
    }
   ],
   "source": [
    "print(mini_search(input_dict))"
   ]
  },
  {
   "cell_type": "code",
   "execution_count": 6,
   "metadata": {},
   "outputs": [
    {
     "name": "stdout",
     "output_type": "stream",
     "text": [
      "10000\n"
     ]
    }
   ],
   "source": [
    "print(mini_max(sleep_data, \"Daily Steps\"))"
   ]
  },
  {
   "cell_type": "code",
   "execution_count": 12,
   "metadata": {},
   "outputs": [
    {
     "name": "stdout",
     "output_type": "stream",
     "text": [
      "{'Function': 'max', 'Column': 'Age', 'Result': 59}\n"
     ]
    }
   ],
   "source": [
    "print(mini_stats({\"Data\": sleep_data, \"Column\": \"Age\", \"Function\": \"max\"}))"
   ]
  },
  {
   "cell_type": "code",
   "execution_count": 8,
   "metadata": {},
   "outputs": [
    {
     "name": "stdout",
     "output_type": "stream",
     "text": [
      "[{'Person ID': 7, 'Quality of Sleep': 6, 'Physical Activity Level': 40}, {'Person ID': 83, 'Quality of Sleep': 7, 'Physical Activity Level': 40}, {'Person ID': 84, 'Quality of Sleep': 7, 'Physical Activity Level': 40}, {'Person ID': 99, 'Quality of Sleep': 8, 'Physical Activity Level': 60}, {'Person ID': 100, 'Quality of Sleep': 8, 'Physical Activity Level': 60}, {'Person ID': 101, 'Quality of Sleep': 8, 'Physical Activity Level': 60}, {'Person ID': 102, 'Quality of Sleep': 8, 'Physical Activity Level': 60}, {'Person ID': 103, 'Quality of Sleep': 8, 'Physical Activity Level': 60}, {'Person ID': 104, 'Quality of Sleep': 5, 'Physical Activity Level': 35}, {'Person ID': 105, 'Quality of Sleep': 8, 'Physical Activity Level': 60}, {'Person ID': 106, 'Quality of Sleep': 5, 'Physical Activity Level': 35}, {'Person ID': 185, 'Quality of Sleep': 6, 'Physical Activity Level': 45}, {'Person ID': 186, 'Quality of Sleep': 6, 'Physical Activity Level': 45}, {'Person ID': 187, 'Quality of Sleep': 7, 'Physical Activity Level': 45}, {'Person ID': 189, 'Quality of Sleep': 7, 'Physical Activity Level': 45}, {'Person ID': 191, 'Quality of Sleep': 7, 'Physical Activity Level': 45}, {'Person ID': 221, 'Quality of Sleep': 7, 'Physical Activity Level': 45}, {'Person ID': 225, 'Quality of Sleep': 7, 'Physical Activity Level': 45}, {'Person ID': 227, 'Quality of Sleep': 7, 'Physical Activity Level': 45}, {'Person ID': 229, 'Quality of Sleep': 7, 'Physical Activity Level': 45}, {'Person ID': 231, 'Quality of Sleep': 7, 'Physical Activity Level': 45}, {'Person ID': 233, 'Quality of Sleep': 7, 'Physical Activity Level': 45}, {'Person ID': 235, 'Quality of Sleep': 7, 'Physical Activity Level': 45}, {'Person ID': 238, 'Quality of Sleep': 7, 'Physical Activity Level': 45}, {'Person ID': 241, 'Quality of Sleep': 7, 'Physical Activity Level': 45}, {'Person ID': 244, 'Quality of Sleep': 7, 'Physical Activity Level': 45}, {'Person ID': 246, 'Quality of Sleep': 7, 'Physical Activity Level': 45}, {'Person ID': 251, 'Quality of Sleep': 7, 'Physical Activity Level': 30}, {'Person ID': 252, 'Quality of Sleep': 7, 'Physical Activity Level': 30}, {'Person ID': 253, 'Quality of Sleep': 7, 'Physical Activity Level': 45}, {'Person ID': 254, 'Quality of Sleep': 7, 'Physical Activity Level': 45}, {'Person ID': 255, 'Quality of Sleep': 7, 'Physical Activity Level': 45}, {'Person ID': 256, 'Quality of Sleep': 7, 'Physical Activity Level': 45}, {'Person ID': 257, 'Quality of Sleep': 7, 'Physical Activity Level': 45}, {'Person ID': 258, 'Quality of Sleep': 7, 'Physical Activity Level': 45}, {'Person ID': 259, 'Quality of Sleep': 7, 'Physical Activity Level': 45}, {'Person ID': 260, 'Quality of Sleep': 7, 'Physical Activity Level': 45}, {'Person ID': 261, 'Quality of Sleep': 7, 'Physical Activity Level': 45}, {'Person ID': 262, 'Quality of Sleep': 7, 'Physical Activity Level': 45}, {'Person ID': 263, 'Quality of Sleep': 7, 'Physical Activity Level': 45}]\n"
     ]
    }
   ],
   "source": [
    "print(mini_extract_metrics({\"Data\": sleep_data, \"Col1\":\"Person ID\",\n",
    "\"Col2\":\"Quality of Sleep\",\n",
    "\"Col3\":\"Physical Activity Level\"}))"
   ]
  },
  {
   "cell_type": "code",
   "execution_count": 9,
   "metadata": {},
   "outputs": [],
   "source": [
    "test_mini_count = mini_count({\"Data\": sleep_data, \"Column\": \"Daily Steps\", \"Value\": 10000})"
   ]
  },
  {
   "cell_type": "code",
   "execution_count": 10,
   "metadata": {},
   "outputs": [
    {
     "name": "stdout",
     "output_type": "stream",
     "text": [
      "{'Exists': True, 'Column': 'BMI Category', 'Value': 'Obese'}\n"
     ]
    }
   ],
   "source": [
    "print(mini_search(input_dict))"
   ]
  },
  {
   "cell_type": "code",
   "execution_count": 11,
   "metadata": {},
   "outputs": [
    {
     "ename": "ValueError",
     "evalue": "Column 'BMI Category' does not contain numeric values.",
     "output_type": "error",
     "traceback": [
      "\u001b[31m---------------------------------------------------------------------------\u001b[39m",
      "\u001b[31mValueError\u001b[39m                                Traceback (most recent call last)",
      "\u001b[36mCell\u001b[39m\u001b[36m \u001b[39m\u001b[32mIn[11]\u001b[39m\u001b[32m, line 1\u001b[39m\n\u001b[32m----> \u001b[39m\u001b[32m1\u001b[39m \u001b[38;5;28mprint\u001b[39m(\u001b[43mmini_average\u001b[49m\u001b[43m(\u001b[49m\u001b[43minput_dict\u001b[49m\u001b[43m)\u001b[49m)\n",
      "\u001b[36mFile \u001b[39m\u001b[32mc:\\Users\\evely\\OneDrive\\Documents\\GitHub\\bbk-bda-project1\\MiniYou\\fun.py:264\u001b[39m, in \u001b[36mmini_average\u001b[39m\u001b[34m(input_dict)\u001b[39m\n\u001b[32m    262\u001b[39m \u001b[38;5;28;01mif\u001b[39;00m column \u001b[38;5;129;01min\u001b[39;00m record \u001b[38;5;129;01mand\u001b[39;00m record[column] \u001b[38;5;129;01mnot\u001b[39;00m \u001b[38;5;129;01min\u001b[39;00m [\u001b[38;5;28;01mNone\u001b[39;00m, \u001b[33m\"\u001b[39m\u001b[33m\"\u001b[39m, \u001b[33m\"\u001b[39m\u001b[33mNone\u001b[39m\u001b[33m\"\u001b[39m]:\n\u001b[32m    263\u001b[39m     \u001b[38;5;28;01mif\u001b[39;00m \u001b[38;5;129;01mnot\u001b[39;00m \u001b[38;5;28misinstance\u001b[39m(record[column], (\u001b[38;5;28mint\u001b[39m, \u001b[38;5;28mfloat\u001b[39m)):\n\u001b[32m--> \u001b[39m\u001b[32m264\u001b[39m         \u001b[38;5;28;01mraise\u001b[39;00m \u001b[38;5;167;01mValueError\u001b[39;00m(\u001b[33mf\u001b[39m\u001b[33m\"\u001b[39m\u001b[33mColumn \u001b[39m\u001b[33m'\u001b[39m\u001b[38;5;132;01m{\u001b[39;00mcolumn\u001b[38;5;132;01m}\u001b[39;00m\u001b[33m'\u001b[39m\u001b[33m does not contain numeric values.\u001b[39m\u001b[33m\"\u001b[39m)\n\u001b[32m    265\u001b[39m     total += \u001b[38;5;28mfloat\u001b[39m(record[column])\n\u001b[32m    266\u001b[39m     count += \u001b[32m1\u001b[39m\n",
      "\u001b[31mValueError\u001b[39m: Column 'BMI Category' does not contain numeric values."
     ]
    }
   ],
   "source": [
    "print(mini_average(input_dict))"
   ]
  },
  {
   "cell_type": "code",
   "execution_count": null,
   "metadata": {},
   "outputs": [],
   "source": [
    "print(test_mini_count)"
   ]
  },
  {
   "cell_type": "code",
   "execution_count": null,
   "metadata": {},
   "outputs": [],
   "source": [
    "sleep_data = mini_load_csv_dict(file_dict)"
   ]
  },
  {
   "cell_type": "code",
   "execution_count": null,
   "metadata": {},
   "outputs": [],
   "source": [
    "for record in sleep_data:\n",
    "    for column in record:\n",
    "        try:\n",
    "            record[column] = int(record[column])  # Try converting to int first\n",
    "        except ValueError:\n",
    "            try:\n",
    "                record[column] = float(record[column])  # If int fails, try float\n",
    "            except ValueError:\n",
    "                pass  # If both fail, keep the original value"
   ]
  },
  {
   "cell_type": "code",
   "execution_count": null,
   "metadata": {},
   "outputs": [],
   "source": [
    "mini_count_match({\"Data\": sleep_data, \"Occupation\": \"Doctor\", \"Heart Rate\": 72})"
   ]
  },
  {
   "cell_type": "code",
   "execution_count": null,
   "metadata": {},
   "outputs": [],
   "source": [
    "for record in sleep_data:\n",
    "    for column in record:\n",
    "        print(column, type(record[column]))"
   ]
  },
  {
   "cell_type": "code",
   "execution_count": null,
   "metadata": {},
   "outputs": [],
   "source": []
  }
 ],
 "metadata": {
  "kernelspec": {
   "display_name": ".venv",
   "language": "python",
   "name": "python3"
  },
  "language_info": {
   "codemirror_mode": {
    "name": "ipython",
    "version": 3
   },
   "file_extension": ".py",
   "mimetype": "text/x-python",
   "name": "python",
   "nbconvert_exporter": "python",
   "pygments_lexer": "ipython3",
   "version": "3.13.3"
  }
 },
 "nbformat": 4,
 "nbformat_minor": 2
}
