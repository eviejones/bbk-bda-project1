{
 "cells": [
  {
   "cell_type": "code",
   "execution_count": 1,
   "metadata": {},
   "outputs": [
    {
     "name": "stderr",
     "output_type": "stream",
     "text": [
      "/Users/evie.jones/Documents/Masters/Big Data Analytics/bbk-bda-project1/.bbk/lib/python3.9/site-packages/urllib3/__init__.py:35: NotOpenSSLWarning: urllib3 v2 only supports OpenSSL 1.1.1+, currently the 'ssl' module is compiled with 'LibreSSL 2.8.3'. See: https://github.com/urllib3/urllib3/issues/3020\n",
      "  warnings.warn(\n"
     ]
    }
   ],
   "source": [
    "from fun import *"
   ]
  },
  {
   "cell_type": "code",
   "execution_count": 2,
   "metadata": {},
   "outputs": [
    {
     "name": "stdout",
     "output_type": "stream",
     "text": [
      "{'Person ID': 1, 'Gender': 'Male', 'Age': 27, 'Occupation': 'Software Engineer', 'Sleep Duration': 6.1, 'Quality of Sleep': 6, 'Physical Activity Level': 42, 'Stress Level': 6, 'BMI Category': 'Overweight', 'Blood Pressure': '126/83', 'Heart Rate': 77, 'Daily Steps': 4200, 'Sleep Disorder': 'None'}\n"
     ]
    }
   ],
   "source": [
    "file_dict = {\"filename\": \"datasets/sleep_health_and_lifestyle_data.csv\"}\n",
    "filename = file_dict[\"filename\"]\n",
    "\n",
    "# Test out mini_load_csv_dict\n",
    "sleep_data = mini_load_csv_dict(file_dict)\n",
    "print(sleep_data[0]) "
   ]
  },
  {
   "cell_type": "code",
   "execution_count": 3,
   "metadata": {},
   "outputs": [
    {
     "name": "stdout",
     "output_type": "stream",
     "text": [
      "{'Exists': False, 'Column': 'Sleep Disorder', 'Value': 'Insooonia'}\n"
     ]
    }
   ],
   "source": [
    "test_mini_search = mini_search({\"Data\": sleep_data, \"Column\": \"Sleep Disorder\", \"Value\": \"Insooonia\"})\n",
    "print(test_mini_search)"
   ]
  },
  {
   "cell_type": "code",
   "execution_count": 4,
   "metadata": {},
   "outputs": [],
   "source": [
    "input_dict = {\"Data\": sleep_data, \"Column\": \"BMI Category\", \"Value\": \"Obese\"}\n",
    "input_dict_num = ({\"Data\": sleep_data, \"Column\": \"Daily Steps\", \"Value\": 10000})"
   ]
  },
  {
   "cell_type": "code",
   "execution_count": null,
   "metadata": {},
   "outputs": [],
   "source": []
  },
  {
   "cell_type": "code",
   "execution_count": 5,
   "metadata": {},
   "outputs": [
    {
     "name": "stdout",
     "output_type": "stream",
     "text": [
      "{'Exists': True, 'Column': 'BMI Category', 'Value': 'Obese'}\n"
     ]
    }
   ],
   "source": [
    "print(mini_search(input_dict))"
   ]
  },
  {
   "cell_type": "code",
   "execution_count": 6,
   "metadata": {},
   "outputs": [
    {
     "name": "stdout",
     "output_type": "stream",
     "text": [
      "10000\n"
     ]
    }
   ],
   "source": [
    "print(mini_max(sleep_data, \"Daily Steps\"))"
   ]
  },
  {
   "cell_type": "code",
   "execution_count": 7,
   "metadata": {},
   "outputs": [
    {
     "name": "stdout",
     "output_type": "stream",
     "text": [
      "{'Function': 'max', 'Column': 'Age', 'Result': 59}\n"
     ]
    }
   ],
   "source": [
    "print(mini_stats({\"Data\": sleep_data, \"Column\": \"Age\", \"Function\": \"max\"}))"
   ]
  },
  {
   "cell_type": "code",
   "execution_count": 8,
   "metadata": {},
   "outputs": [
    {
     "name": "stdout",
     "output_type": "stream",
     "text": [
      "<generator object mini_extract_metrics at 0x10faab970>\n"
     ]
    }
   ],
   "source": [
    "print(mini_extract_metrics({\"Data\": sleep_data, \"Col1\":\"Person ID\",\n",
    "\"Col2\":\"Quality of Sleep\",\n",
    "\"Col3\":\"Physical Activity Level\"}))"
   ]
  },
  {
   "cell_type": "code",
   "execution_count": 9,
   "metadata": {},
   "outputs": [],
   "source": [
    "test_mini_count = mini_count({\"Data\": sleep_data, \"Column\": \"Daily Steps\", \"Value\": 10000})"
   ]
  },
  {
   "cell_type": "code",
   "execution_count": 10,
   "metadata": {},
   "outputs": [
    {
     "name": "stdout",
     "output_type": "stream",
     "text": [
      "{'Exists': True, 'Column': 'BMI Category', 'Value': 'Obese'}\n"
     ]
    }
   ],
   "source": [
    "print(mini_search(input_dict))"
   ]
  },
  {
   "cell_type": "code",
   "execution_count": 11,
   "metadata": {},
   "outputs": [
    {
     "name": "stdout",
     "output_type": "stream",
     "text": [
      "{'Exists': True, 'Column': 'Daily Steps', 'Value': 10000, 'Proportion': 0.1}\n"
     ]
    }
   ],
   "source": [
    "print(test_mini_count)"
   ]
  },
  {
   "cell_type": "code",
   "execution_count": 12,
   "metadata": {},
   "outputs": [],
   "source": [
    "sleep_data = mini_load_csv_dict(file_dict)"
   ]
  },
  {
   "cell_type": "code",
   "execution_count": 13,
   "metadata": {},
   "outputs": [
    {
     "name": "stdout",
     "output_type": "stream",
     "text": [
      "{'Column': 'Daily Steps', 'Sorted data': [3000, 3000, 3000, 3300, 3300, 3500, 3500, 3500, 3700, 3700, 4000, 4000, 4000, 4100, 4100, 4200, 4200, 4800, 4800, 5000, 5000, 5000, 5000, 5000, 5000, 5000, 5000, 5000, 5000, 5000, 5000, 5000, 5000, 5000, 5000, 5000, 5000, 5000, 5000, 5000, 5000, 5000, 5000, 5000, 5000, 5000, 5000, 5000, 5000, 5000, 5000, 5000, 5000, 5000, 5000, 5000, 5000, 5000, 5000, 5000, 5000, 5000, 5000, 5000, 5000, 5000, 5000, 5000, 5000, 5000, 5000, 5000, 5000, 5000, 5000, 5000, 5000, 5000, 5000, 5000, 5000, 5000, 5000, 5000, 5000, 5000, 5000, 5200, 5200, 5500, 5500, 5500, 5500, 5600, 5600, 6000, 6000, 6000, 6000, 6000, 6000, 6000, 6000, 6000, 6000, 6000, 6000, 6000, 6000, 6000, 6000, 6000, 6000, 6000, 6000, 6000, 6000, 6000, 6000, 6000, 6000, 6000, 6000, 6000, 6000, 6000, 6000, 6000, 6000, 6000, 6000, 6000, 6000, 6000, 6000, 6000, 6000, 6000, 6000, 6000, 6000, 6000, 6000, 6000, 6000, 6000, 6000, 6000, 6000, 6000, 6000, 6000, 6000, 6000, 6000, 6000, 6000, 6000, 6000, 6000, 6000, 6000, 6000, 6200, 6800, 6800, 6800, 7000, 7000, 7000, 7000, 7000, 7000, 7000, 7000, 7000, 7000, 7000, 7000, 7000, 7000, 7000, 7000, 7000, 7000, 7000, 7000, 7000, 7000, 7000, 7000, 7000, 7000, 7000, 7000, 7000, 7000, 7000, 7000, 7000, 7000, 7000, 7000, 7000, 7000, 7000, 7000, 7000, 7000, 7000, 7000, 7000, 7000, 7000, 7000, 7000, 7000, 7000, 7000, 7000, 7000, 7000, 7000, 7000, 7000, 7000, 7000, 7000, 7000, 7000, 7000, 7000, 7000, 7300, 7300, 7500, 7500, 8000, 8000, 8000, 8000, 8000, 8000, 8000, 8000, 8000, 8000, 8000, 8000, 8000, 8000, 8000, 8000, 8000, 8000, 8000, 8000, 8000, 8000, 8000, 8000, 8000, 8000, 8000, 8000, 8000, 8000, 8000, 8000, 8000, 8000, 8000, 8000, 8000, 8000, 8000, 8000, 8000, 8000, 8000, 8000, 8000, 8000, 8000, 8000, 8000, 8000, 8000, 8000, 8000, 8000, 8000, 8000, 8000, 8000, 8000, 8000, 8000, 8000, 8000, 8000, 8000, 8000, 8000, 8000, 8000, 8000, 8000, 8000, 8000, 8000, 8000, 8000, 8000, 8000, 8000, 8000, 8000, 8000, 8000, 8000, 8000, 8000, 8000, 8000, 8000, 8000, 8000, 8000, 8000, 8000, 8000, 8000, 8000, 8000, 8000, 8000, 8000, 10000, 10000, 10000, 10000, 10000, 10000, 10000, 10000, 10000, 10000, 10000, 10000, 10000, 10000, 10000, 10000, 10000, 10000, 10000, 10000, 10000, 10000, 10000, 10000, 10000, 10000, 10000, 10000, 10000, 10000, 10000, 10000, 10000, 10000, 10000, 10000]}\n"
     ]
    }
   ],
   "source": [
    "print(mini_bubble_sort(sleep_data, \"Daily Steps\"))"
   ]
  },
  {
   "cell_type": "code",
   "execution_count": 14,
   "metadata": {},
   "outputs": [
    {
     "name": "stdout",
     "output_type": "stream",
     "text": [
      "{'Value': 3500, 'Exists': True}\n"
     ]
    }
   ],
   "source": [
    "sorted_data = mini_bubble_sort(sleep_data, \"Daily Steps\")\n",
    "sorted_data = sorted_data.get(\"Sorted data\")\n",
    "print(mini_value_exists(sorted_data, 3500))"
   ]
  },
  {
   "cell_type": "markdown",
   "metadata": {},
   "source": [
    "Part C"
   ]
  },
  {
   "cell_type": "code",
   "execution_count": 15,
   "metadata": {},
   "outputs": [
    {
     "name": "stdout",
     "output_type": "stream",
     "text": [
      "{'Exists': True, 'Column': 'Daily_Steps', 'NumRecords': 1000, 'NumMissing': 0}\n"
     ]
    }
   ],
   "source": [
    "#Check if the Daily_Steps column exists and how many missing values it contains\n",
    "file_dict = {\"filename\": \"datasets/health_activity_data.csv\"}\n",
    "filename = file_dict[\"filename\"]\n",
    "health_data = mini_load_csv_dict(file_dict)\n",
    "print(mini_len({\"Data\": health_data, \"Column\": \"Daily_Steps\"}))"
   ]
  },
  {
   "cell_type": "code",
   "execution_count": 16,
   "metadata": {},
   "outputs": [
    {
     "name": "stdout",
     "output_type": "stream",
     "text": [
      "{'Conditions': {'Daily_Steps': 6457}, 'Count': 1}\n"
     ]
    }
   ],
   "source": [
    "# Count how many individuals report Daily_Steps of 6457 hours.\n",
    "print(mini_count_match({\"Data\": health_data, \"Daily_Steps\": 6457}))"
   ]
  },
  {
   "cell_type": "code",
   "execution_count": 17,
   "metadata": {},
   "outputs": [
    {
     "name": "stdout",
     "output_type": "stream",
     "text": [
      "{'Exists': True, 'Column': 'BMI', 'Average': 26.73}\n"
     ]
    }
   ],
   "source": [
    "# Calculate the average BMI across all individuals.\n",
    "print(mini_average({\"Data\": health_data, \"Column\": \"BMI\"}))"
   ]
  },
  {
   "cell_type": "code",
   "execution_count": 18,
   "metadata": {},
   "outputs": [
    {
     "name": "stdout",
     "output_type": "stream",
     "text": [
      "{'Conditions': {'Gender': 'Female', 'Hours_of_Sleep': 7.4}, 'Count': 8}\n"
     ]
    }
   ],
   "source": [
    "# Count how many female users sleep 7.4 hours.\n",
    "print(mini_count_match({\"Data\": health_data, \"Gender\": \"Female\", \"Hours_of_Sleep\": 7.4}))"
   ]
  },
  {
   "cell_type": "code",
   "execution_count": 19,
   "metadata": {},
   "outputs": [],
   "source": [
    "cities = [\n",
    " {\"city\": \"New York\", \"country\": \"USA\", \"lat\": 40.7128, \"lon\": -74.0060},\n",
    " {\"city\": \"London\", \"country\": \"UK\", \"lat\": 51.5074, \"lon\": -0.1278},\n",
    " {\"city\": \"Paris\", \"country\": \"France\", \"lat\": 48.8566, \"lon\": 2.3522},\n",
    " {\"city\": \"Tokyo\", \"country\": \"Japan\", \"lat\": 35.6895, \"lon\": 139.6917},\n",
    " {\"city\": \"Sydney\", \"country\": \"Australia\", \"lat\": -33.8688, \"lon\": 151.2093},\n",
    " {\"city\": \"Rio de Janeiro\", \"country\": \"Brazil\", \"lat\": -22.9068, \"lon\": -43.1729},\n",
    " {\"city\": \"Cape Town\", \"country\": \"South Africa\", \"lat\": -33.9249, \"lon\": 18.4241},\n",
    " {\"city\": \"Moscow\", \"country\": \"Russia\", \"lat\": 55.7558, \"lon\": 37.6173},\n",
    " {\"city\": \"Beijing\", \"country\": \"China\", \"lat\": 39.9042, \"lon\": 116.4074},\n",
    " {\"city\": \"Mumbai\", \"country\": \"India\", \"lat\": 19.0760, \"lon\": 72.8777},\n",
    " {\"city\": \"Cairo\", \"country\": \"Egypt\", \"lat\": 30.0444, \"lon\": 31.2357},\n",
    " {\"city\": \"Berlin\", \"country\": \"Germany\", \"lat\": 52.5200, \"lon\": 13.4050},\n",
    " {\"city\": \"Rome\", \"country\": \"Italy\", \"lat\": 41.9028, \"lon\": 12.4964},\n",
    " {\"city\": \"Toronto\", \"country\": \"Canada\", \"lat\": 43.6510, \"lon\": -79.3470},\n",
    " {\"city\": \"Dubai\", \"country\": \"UAE\", \"lat\": 25.2048, \"lon\": 55.2708},\n",
    " {\"city\": \"Singapore\", \"country\": \"Singapore\", \"lat\": 1.3521, \"lon\": 103.8198},\n",
    " {\"city\": \"Mexico City\", \"country\": \"Mexico\", \"lat\": 19.4326, \"lon\": -99.1332},\n",
    " {\"city\": \"Buenos Aires\", \"country\": \"Argentina\", \"lat\": -34.6037, \"lon\": -58.3816},\n",
    " {\"city\": \"Istanbul\", \"country\": \"Turkey\", \"lat\": 41.0082, \"lon\": 28.9784},\n",
    " {\"city\": \"Bangkok\", \"country\": \"Thailand\", \"lat\": 13.7563, \"lon\": 100.5018},\n",
    " {\"city\": \"Nairobi\", \"country\": \"Kenya\", \"lat\": -1.2921, \"lon\": 36.8219},\n",
    " {\"city\": \"Seoul\", \"country\": \"South Korea\", \"lat\": 37.5665, \"lon\": 126.9780},\n",
    " {\"city\": \"San Francisco\", \"country\": \"USA\", \"lat\": 37.7749, \"lon\": -122.4194},\n",
    " {\"city\": \"Jakarta\", \"country\": \"Indonesia\", \"lat\": -6.2088, \"lon\": 106.8456},\n",
    " {\"city\": \"Madrid\", \"country\": \"Spain\", \"lat\": 40.4168, \"lon\": -3.7038},\n",
    " {\"city\": \"Lisbon\", \"country\": \"Portugal\", \"lat\": 38.7169, \"lon\": -9.1399},\n",
    " {\"city\": \"Athens\", \"country\": \"Greece\", \"lat\": 37.9838, \"lon\": 23.7275},\n",
    " {\"city\": \"Hanoi\", \"country\": \"Vietnam\", \"lat\": 21.0285, \"lon\": 105.8544},\n",
    " {\"city\": \"Oslo\", \"country\": \"Norway\", \"lat\": 59.9139, \"lon\": 10.7522},\n",
    " {\"city\": \"Lagos\", \"country\": \"Nigeria\", \"lat\": 6.5244, \"lon\": 3.3792}\n",
    "]"
   ]
  },
  {
   "cell_type": "code",
   "execution_count": 20,
   "metadata": {},
   "outputs": [
    {
     "name": "stdout",
     "output_type": "stream",
     "text": [
      "{\"latitude\":40.710335,\"longitude\":-73.99309,\"generationtime_ms\":0.031828880310058594,\"utc_offset_seconds\":0,\"timezone\":\"GMT\",\"timezone_abbreviation\":\"GMT\",\"elevation\":32.0,\"hourly_units\":{\"time\":\"iso8601\",\"temperature_2m\":\"°C\"},\"hourly\":{\"time\":[\"2025-06-10T00:00\",\"2025-06-10T01:00\",\"2025-06-10T02:00\",\"2025-06-10T03:00\",\"2025-06-10T04:00\",\"2025-06-10T05:00\",\"2025-06-10T06:00\",\"2025-06-10T07:00\",\"2025-06-10T08:00\",\"2025-06-10T09:00\",\"2025-06-10T10:00\",\"2025-06-10T11:00\",\"2025-06-10T12:00\",\"2025-06-10T13:00\",\"2025-06-10T14:00\",\"2025-06-10T15:00\",\"2025-06-10T16:00\",\"2025-06-10T17:00\",\"2025-06-10T18:00\",\"2025-06-10T19:00\",\"2025-06-10T20:00\",\"2025-06-10T21:00\",\"2025-06-10T22:00\",\"2025-06-10T23:00\",\"2025-06-11T00:00\",\"2025-06-11T01:00\",\"2025-06-11T02:00\",\"2025-06-11T03:00\",\"2025-06-11T04:00\",\"2025-06-11T05:00\",\"2025-06-11T06:00\",\"2025-06-11T07:00\",\"2025-06-11T08:00\",\"2025-06-11T09:00\",\"2025-06-11T10:00\",\"2025-06-11T11:00\",\"2025-06-11T12:00\",\"2025-06-11T13:00\",\"2025-06-11T14:00\",\"2025-06-11T15:00\",\"2025-06-11T16:00\",\"2025-06-11T17:00\",\"2025-06-11T18:00\",\"2025-06-11T19:00\",\"2025-06-11T20:00\",\"2025-06-11T21:00\",\"2025-06-11T22:00\",\"2025-06-11T23:00\",\"2025-06-12T00:00\",\"2025-06-12T01:00\",\"2025-06-12T02:00\",\"2025-06-12T03:00\",\"2025-06-12T04:00\",\"2025-06-12T05:00\",\"2025-06-12T06:00\",\"2025-06-12T07:00\",\"2025-06-12T08:00\",\"2025-06-12T09:00\",\"2025-06-12T10:00\",\"2025-06-12T11:00\",\"2025-06-12T12:00\",\"2025-06-12T13:00\",\"2025-06-12T14:00\",\"2025-06-12T15:00\",\"2025-06-12T16:00\",\"2025-06-12T17:00\",\"2025-06-12T18:00\",\"2025-06-12T19:00\",\"2025-06-12T20:00\",\"2025-06-12T21:00\",\"2025-06-12T22:00\",\"2025-06-12T23:00\",\"2025-06-13T00:00\",\"2025-06-13T01:00\",\"2025-06-13T02:00\",\"2025-06-13T03:00\",\"2025-06-13T04:00\",\"2025-06-13T05:00\",\"2025-06-13T06:00\",\"2025-06-13T07:00\",\"2025-06-13T08:00\",\"2025-06-13T09:00\",\"2025-06-13T10:00\",\"2025-06-13T11:00\",\"2025-06-13T12:00\",\"2025-06-13T13:00\",\"2025-06-13T14:00\",\"2025-06-13T15:00\",\"2025-06-13T16:00\",\"2025-06-13T17:00\",\"2025-06-13T18:00\",\"2025-06-13T19:00\",\"2025-06-13T20:00\",\"2025-06-13T21:00\",\"2025-06-13T22:00\",\"2025-06-13T23:00\",\"2025-06-14T00:00\",\"2025-06-14T01:00\",\"2025-06-14T02:00\",\"2025-06-14T03:00\",\"2025-06-14T04:00\",\"2025-06-14T05:00\",\"2025-06-14T06:00\",\"2025-06-14T07:00\",\"2025-06-14T08:00\",\"2025-06-14T09:00\",\"2025-06-14T10:00\",\"2025-06-14T11:00\",\"2025-06-14T12:00\",\"2025-06-14T13:00\",\"2025-06-14T14:00\",\"2025-06-14T15:00\",\"2025-06-14T16:00\",\"2025-06-14T17:00\",\"2025-06-14T18:00\",\"2025-06-14T19:00\",\"2025-06-14T20:00\",\"2025-06-14T21:00\",\"2025-06-14T22:00\",\"2025-06-14T23:00\",\"2025-06-15T00:00\",\"2025-06-15T01:00\",\"2025-06-15T02:00\",\"2025-06-15T03:00\",\"2025-06-15T04:00\",\"2025-06-15T05:00\",\"2025-06-15T06:00\",\"2025-06-15T07:00\",\"2025-06-15T08:00\",\"2025-06-15T09:00\",\"2025-06-15T10:00\",\"2025-06-15T11:00\",\"2025-06-15T12:00\",\"2025-06-15T13:00\",\"2025-06-15T14:00\",\"2025-06-15T15:00\",\"2025-06-15T16:00\",\"2025-06-15T17:00\",\"2025-06-15T18:00\",\"2025-06-15T19:00\",\"2025-06-15T20:00\",\"2025-06-15T21:00\",\"2025-06-15T22:00\",\"2025-06-15T23:00\",\"2025-06-16T00:00\",\"2025-06-16T01:00\",\"2025-06-16T02:00\",\"2025-06-16T03:00\",\"2025-06-16T04:00\",\"2025-06-16T05:00\",\"2025-06-16T06:00\",\"2025-06-16T07:00\",\"2025-06-16T08:00\",\"2025-06-16T09:00\",\"2025-06-16T10:00\",\"2025-06-16T11:00\",\"2025-06-16T12:00\",\"2025-06-16T13:00\",\"2025-06-16T14:00\",\"2025-06-16T15:00\",\"2025-06-16T16:00\",\"2025-06-16T17:00\",\"2025-06-16T18:00\",\"2025-06-16T19:00\",\"2025-06-16T20:00\",\"2025-06-16T21:00\",\"2025-06-16T22:00\",\"2025-06-16T23:00\"],\"temperature_2m\":[16.9,16.9,16.8,16.7,16.7,16.9,17.0,16.8,17.0,16.9,17.0,17.3,17.3,17.9,17.5,17.7,18.4,20.0,20.5,20.9,21.5,22.5,22.6,22.4,21.0,19.7,19.2,18.7,18.2,17.9,17.5,17.1,17.0,16.5,16.0,17.9,20.1,22.4,24.8,26.7,28.0,28.6,29.4,29.4,28.8,28.9,28.5,27.6,25.7,23.3,22.0,21.0,20.5,19.6,19.2,21.3,21.1,20.9,20.6,21.2,22.7,24.4,25.8,27.1,28.4,29.5,30.2,30.5,31.0,30.5,29.3,28.4,27.4,24.0,24.2,22.6,22.2,21.3,20.4,19.9,19.7,19.2,18.9,19.6,20.6,21.9,23.3,24.0,21.7,20.6,22.3,21.4,21.7,21.4,20.8,20.4,19.9,19.4,18.5,18.2,18.0,18.0,18.2,18.3,18.4,18.4,18.5,18.8,19.0,19.3,19.9,20.3,21.4,22.6,23.6,24.8,25.3,24.3,24.4,23.4,22.2,21.4,20.6,19.9,19.4,19.1,18.7,18.4,18.1,17.8,17.6,17.4,17.3,17.5,17.7,17.9,18.0,18.1,18.1,18.1,18.1,18.0,17.8,17.5,17.1,16.8,16.4,16.1,16.1,16.1,16.2,16.3,16.3,16.4,16.6,16.7,16.8,16.9,16.9,16.9,17.1,17.3,17.5,17.8,18.0,18.1,18.0,17.7]}}\n"
     ]
    }
   ],
   "source": [
    "url = 'https://api.open-meteo.com/v1/forecast'\n",
    "params = {\n",
    "    \"latitude\": 40.7128,\n",
    "    \"longitude\": -74.0060,\n",
    "    \"hourly\": \"temperature_2m\",\n",
    "}\n",
    "response = requests.get(url, params=params, timeout=1)\n",
    "print(response.text)"
   ]
  },
  {
   "cell_type": "code",
   "execution_count": 21,
   "metadata": {},
   "outputs": [],
   "source": [
    "weather_data = mini_get_weather_data(cities)"
   ]
  },
  {
   "cell_type": "code",
   "execution_count": 22,
   "metadata": {},
   "outputs": [],
   "source": [
    "test_cities = mini_temp_between(weather_data, 20, 30)"
   ]
  },
  {
   "cell_type": "code",
   "execution_count": 23,
   "metadata": {},
   "outputs": [
    {
     "data": {
      "text/plain": [
       "['New York',\n",
       " 'London',\n",
       " 'Paris',\n",
       " 'Tokyo',\n",
       " 'Rio de Janeiro',\n",
       " 'Cape Town',\n",
       " 'Moscow',\n",
       " 'Beijing',\n",
       " 'Mumbai',\n",
       " 'Cairo',\n",
       " 'Berlin',\n",
       " 'Rome',\n",
       " 'Toronto',\n",
       " 'Singapore',\n",
       " 'Mexico City',\n",
       " 'Istanbul',\n",
       " 'Bangkok',\n",
       " 'Nairobi',\n",
       " 'Seoul',\n",
       " 'San Francisco',\n",
       " 'Jakarta',\n",
       " 'Madrid',\n",
       " 'Lisbon',\n",
       " 'Athens',\n",
       " 'Hanoi',\n",
       " 'Oslo',\n",
       " 'Lagos']"
      ]
     },
     "execution_count": 23,
     "metadata": {},
     "output_type": "execute_result"
    }
   ],
   "source": [
    "test_cities"
   ]
  },
  {
   "cell_type": "code",
   "execution_count": null,
   "metadata": {},
   "outputs": [],
   "source": [
    "weather_generator = mini_get_weather_data(cities)\n",
    "result = mini_hottest_city(weather_generator)\n",
    "print(result)"
   ]
  },
  {
   "cell_type": "code",
   "execution_count": null,
   "metadata": {},
   "outputs": [],
   "source": [
    "mini_get_weather_data(cities)"
   ]
  },
  {
   "cell_type": "code",
   "execution_count": null,
   "metadata": {},
   "outputs": [],
   "source": [
    "print(mini_hottest_city(mini_get_weather_data(cities)))"
   ]
  },
  {
   "cell_type": "code",
   "execution_count": null,
   "metadata": {},
   "outputs": [],
   "source": []
  }
 ],
 "metadata": {
  "kernelspec": {
   "display_name": ".bbk",
   "language": "python",
   "name": "python3"
  },
  "language_info": {
   "codemirror_mode": {
    "name": "ipython",
    "version": 3
   },
   "file_extension": ".py",
   "mimetype": "text/x-python",
   "name": "python",
   "nbconvert_exporter": "python",
   "pygments_lexer": "ipython3",
   "version": "3.9.6"
  }
 },
 "nbformat": 4,
 "nbformat_minor": 2
}
